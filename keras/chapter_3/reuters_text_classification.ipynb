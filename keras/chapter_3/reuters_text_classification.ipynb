{
 "cells": [
  {
   "cell_type": "code",
   "execution_count": 1,
   "metadata": {},
   "outputs": [
    {
     "name": "stderr",
     "output_type": "stream",
     "text": [
      "Using TensorFlow backend.\n"
     ]
    }
   ],
   "source": [
    "import tensorflow as tf\n",
    "import matplotlib.pyplot as plt\n",
    "# from tensorflow import keras\n",
    "import numpy as np\n",
    "from keras.utils.np_utils import to_categorical\n",
    "from keras import models, layers"
   ]
  },
  {
   "cell_type": "code",
   "execution_count": 2,
   "metadata": {},
   "outputs": [],
   "source": [
    "reuters = tf.keras.datasets.reuters\n",
    "(x_train, y_train), (x_test, y_test) = reuters.load_data(num_words=10000)"
   ]
  },
  {
   "cell_type": "code",
   "execution_count": 3,
   "metadata": {},
   "outputs": [],
   "source": [
    "word_index = reuters.get_word_index()\n",
    "\n",
    "reverse_word_index = dict([(value, key) for (key, value) in word_index.items()])\n",
    "\n",
    "decoded_newswire = ' '.join([reverse_word_index.get(i - 3, '?') for i in x_train[0]])"
   ]
  },
  {
   "cell_type": "code",
   "execution_count": 4,
   "metadata": {},
   "outputs": [
    {
     "data": {
      "text/plain": [
       "'? ? ? said as a result of its december acquisition of space co it expects earnings per share in 1987 of 1 15 to 1 30 dlrs per share up from 70 cts in 1986 the company said pretax net should rise to nine to 10 mln dlrs from six mln dlrs in 1986 and rental operation revenues to 19 to 22 mln dlrs from 12 5 mln dlrs it said cash flow per share this year should be 2 50 to three dlrs reuter 3'"
      ]
     },
     "execution_count": 4,
     "metadata": {},
     "output_type": "execute_result"
    }
   ],
   "source": [
    "decoded_newswire"
   ]
  },
  {
   "cell_type": "code",
   "execution_count": 5,
   "metadata": {},
   "outputs": [],
   "source": [
    "# Encoding the integer sequences into a binary matrix\n",
    "\n",
    "def vectorize_sequences(sequences, dimension=10000):\n",
    "    results = np.zeros((len(sequences), dimension))\n",
    "    for i, sequence in enumerate(sequences):\n",
    "        results[i, sequence] = 1.\n",
    "    return results\n",
    "\n",
    "x_train = vectorize_sequences(x_train)\n",
    "x_test = vectorize_sequences(x_test)"
   ]
  },
  {
   "cell_type": "code",
   "execution_count": 6,
   "metadata": {},
   "outputs": [],
   "source": [
    "# def to_one_hot(labels, dimension=46):\n",
    "#     results = np.zeros((len(labels), dimension))\n",
    "#     for i, label in enumerate(labels):\n",
    "#         results[i, label] = 1.\n",
    "#     return results\n",
    "\n",
    "# y_train = to_one_hot(y_train)\n",
    "# y_test = to_one_hot(y_test)\n",
    "\n",
    "from keras.utils.np_utils import to_categorical\n",
    "\n",
    "y_train_1_hot = to_categorical(y_train)\n",
    "y_test_1_hot = to_categorical(y_test)"
   ]
  },
  {
   "cell_type": "code",
   "execution_count": 7,
   "metadata": {},
   "outputs": [],
   "source": [
    "from keras import models, layers\n",
    "\n",
    "model = models.Sequential()\n",
    "model.add(layers.Dense(64, activation='relu', input_shape=(10000,)))\n",
    "model.add(layers.Dense(64, activation='relu'))\n",
    "model.add(layers.Dense(46, activation='softmax'))\n",
    "\n",
    "model.compile(optimizer='rmsprop',\n",
    "             loss='categorical_crossentropy',\n",
    "             metrics=['accuracy'])"
   ]
  },
  {
   "cell_type": "code",
   "execution_count": 8,
   "metadata": {},
   "outputs": [
    {
     "name": "stdout",
     "output_type": "stream",
     "text": [
      "Train on 7185 samples, validate on 1797 samples\n",
      "Epoch 1/20\n",
      "7185/7185 [==============================] - 10s 1ms/step - loss: 1.5287 - acc: 0.6619 - val_loss: 1.1144 - val_acc: 0.7524\n",
      "Epoch 2/20\n",
      "7185/7185 [==============================] - 8s 1ms/step - loss: 0.8149 - acc: 0.8195 - val_loss: 0.9807 - val_acc: 0.7869\n",
      "Epoch 3/20\n",
      "7185/7185 [==============================] - 8s 1ms/step - loss: 0.5129 - acc: 0.8850 - val_loss: 0.9387 - val_acc: 0.8036\n",
      "Epoch 4/20\n",
      "7185/7185 [==============================] - 7s 1ms/step - loss: 0.3487 - acc: 0.9236 - val_loss: 1.0036 - val_acc: 0.8036\n",
      "Epoch 5/20\n",
      "7185/7185 [==============================] - 6s 877us/step - loss: 0.2548 - acc: 0.9443 - val_loss: 1.0094 - val_acc: 0.8091\n",
      "Epoch 6/20\n",
      "7185/7185 [==============================] - 6s 880us/step - loss: 0.2084 - acc: 0.9543 - val_loss: 1.1422 - val_acc: 0.7969\n",
      "Epoch 7/20\n",
      "7185/7185 [==============================] - 6s 881us/step - loss: 0.1789 - acc: 0.9560 - val_loss: 1.1934 - val_acc: 0.7969\n",
      "Epoch 8/20\n",
      "7185/7185 [==============================] - 6s 895us/step - loss: 0.1650 - acc: 0.9585 - val_loss: 1.2138 - val_acc: 0.7947\n",
      "Epoch 9/20\n",
      "7185/7185 [==============================] - 7s 965us/step - loss: 0.1478 - acc: 0.9596 - val_loss: 1.3516 - val_acc: 0.7913\n",
      "Epoch 10/20\n",
      "7185/7185 [==============================] - 7s 915us/step - loss: 0.1389 - acc: 0.9609 - val_loss: 1.3729 - val_acc: 0.7891\n",
      "Epoch 11/20\n",
      "7185/7185 [==============================] - 6s 899us/step - loss: 0.1326 - acc: 0.9623 - val_loss: 1.4992 - val_acc: 0.7824\n",
      "Epoch 12/20\n",
      "7185/7185 [==============================] - 6s 904us/step - loss: 0.1258 - acc: 0.9623 - val_loss: 1.4196 - val_acc: 0.7846\n",
      "Epoch 13/20\n",
      "7185/7185 [==============================] - 7s 916us/step - loss: 0.1192 - acc: 0.9612 - val_loss: 1.5641 - val_acc: 0.7785\n",
      "Epoch 14/20\n",
      "7185/7185 [==============================] - 7s 985us/step - loss: 0.1168 - acc: 0.9630 - val_loss: 1.4889 - val_acc: 0.7763\n",
      "Epoch 15/20\n",
      "7185/7185 [==============================] - 6s 863us/step - loss: 0.1126 - acc: 0.9603 - val_loss: 1.6505 - val_acc: 0.7813\n",
      "Epoch 16/20\n",
      "7185/7185 [==============================] - 6s 822us/step - loss: 0.1063 - acc: 0.9617 - val_loss: 1.6686 - val_acc: 0.7796\n",
      "Epoch 17/20\n",
      "7185/7185 [==============================] - 6s 849us/step - loss: 0.1068 - acc: 0.9634 - val_loss: 1.6897 - val_acc: 0.7774\n",
      "Epoch 18/20\n",
      "7185/7185 [==============================] - 7s 909us/step - loss: 0.0984 - acc: 0.9621 - val_loss: 1.7417 - val_acc: 0.7769\n",
      "Epoch 19/20\n",
      "7185/7185 [==============================] - 6s 796us/step - loss: 0.0983 - acc: 0.9634 - val_loss: 1.7418 - val_acc: 0.7730\n",
      "Epoch 20/20\n",
      "7185/7185 [==============================] - 7s 941us/step - loss: 0.0928 - acc: 0.9644 - val_loss: 1.7307 - val_acc: 0.7746\n"
     ]
    }
   ],
   "source": [
    "history = model.fit(x_train, y_train_1_hot, epochs=20, validation_split=0.20)"
   ]
  },
  {
   "cell_type": "code",
   "execution_count": 9,
   "metadata": {},
   "outputs": [
    {
     "data": {
      "image/png": "[encoded data removed]",
      "text/plain": [
       "<Figure size 432x288 with 1 Axes>"
      ]
     },
     "metadata": {},
     "output_type": "display_data"
    }
   ],
   "source": [
    "loss = history.history['loss']\n",
    "val_loss = history.history['val_loss']\n",
    "\n",
    "epochs = range(1, len(loss) + 1)\n",
    "\n",
    "plt.plot(epochs, loss, 'bo', label='Training loss')\n",
    "plt.plot(epochs, val_loss, 'b', label='Validation loss')\n",
    "plt.title('Training and validation loss')\n",
    "plt.xlabel('Epochs')\n",
    "plt.ylabel('Loss')\n",
    "plt.legend()\n",
    "\n",
    "plt.show()"
   ]
  },
  {
   "cell_type": "code",
   "execution_count": 10,
   "metadata": {},
   "outputs": [
    {
     "data": {
      "image/png": "[encoded data removed]",
      "text/plain": [
       "<Figure size 432x288 with 1 Axes>"
      ]
     },
     "metadata": {},
     "output_type": "display_data"
    }
   ],
   "source": [
    "acc = history.history['acc']\n",
    "val_acc = history.history['val_acc']\n",
    "\n",
    "epochs = range(1, len(acc) + 1)\n",
    "\n",
    "plt.plot(epochs, acc, 'bo', label='Training accuracy')\n",
    "plt.plot(epochs, val_acc, 'b', label='Validation accuracy')\n",
    "plt.title('Training and validation accuracy')\n",
    "plt.xlabel('Epochs')\n",
    "plt.ylabel('Accuracy')\n",
    "plt.legend()\n",
    "\n",
    "plt.show()"
   ]
  },
  {
   "cell_type": "code",
   "execution_count": 11,
   "metadata": {},
   "outputs": [
    {
     "name": "stdout",
     "output_type": "stream",
     "text": [
      "2246/2246 [==============================] - 1s 298us/step\n"
     ]
    }
   ],
   "source": [
    "results = model.evaluate(x_test, y_test_1_hot)"
   ]
  },
  {
   "cell_type": "code",
   "execution_count": 12,
   "metadata": {},
   "outputs": [
    {
     "data": {
      "text/plain": [
       "[1.9006836577812052, 0.7689225289934146]"
      ]
     },
     "execution_count": 12,
     "metadata": {},
     "output_type": "execute_result"
    }
   ],
   "source": [
    "results"
   ]
  },
  {
   "cell_type": "code",
   "execution_count": 13,
   "metadata": {},
   "outputs": [],
   "source": [
    "predictions = model.predict(x_test)"
   ]
  },
  {
   "cell_type": "code",
   "execution_count": 17,
   "metadata": {},
   "outputs": [
    {
     "data": {
      "text/plain": [
       "3"
      ]
     },
     "execution_count": 17,
     "metadata": {},
     "output_type": "execute_result"
    }
   ],
   "source": [
    "np.argmax(predictions[300])"
   ]
  },
  {
   "cell_type": "code",
   "execution_count": 18,
   "metadata": {},
   "outputs": [
    {
     "data": {
      "text/plain": [
       "3"
      ]
     },
     "execution_count": 18,
     "metadata": {},
     "output_type": "execute_result"
    }
   ],
   "source": [
    "y_test[300]"
   ]
  },
  {
   "cell_type": "code",
   "execution_count": 28,
   "metadata": {},
   "outputs": [],
   "source": [
    "# A model with an information bottleneck\n",
    "\n",
    "model2 = models.Sequential()\n",
    "model2.add(layers.Dense(64, activation='relu', input_shape=(10000,)))\n",
    "model2.add(layers.Dense(4, activation='relu'))\n",
    "model2.add(layers.Dense(46, activation='softmax'))\n",
    "\n",
    "model2.compile(optimizer='rmsprop',\n",
    "              loss='categorical_crossentropy',\n",
    "              metrics=['accuracy'])"
   ]
  },
  {
   "cell_type": "code",
   "execution_count": 29,
   "metadata": {},
   "outputs": [
    {
     "name": "stdout",
     "output_type": "stream",
     "text": [
      "Train on 7185 samples, validate on 1797 samples\n",
      "Epoch 1/20\n",
      "7185/7185 [==============================] - 5s 639us/step - loss: 2.6488 - acc: 0.3942 - val_loss: 2.0754 - val_acc: 0.5298\n",
      "Epoch 2/20\n",
      "7185/7185 [==============================] - 2s 315us/step - loss: 1.7701 - acc: 0.5438 - val_loss: 1.6946 - val_acc: 0.5392\n",
      "Epoch 3/20\n",
      "7185/7185 [==============================] - 2s 311us/step - loss: 1.4741 - acc: 0.5797 - val_loss: 1.5531 - val_acc: 0.6166\n",
      "Epoch 4/20\n",
      "7185/7185 [==============================] - 2s 311us/step - loss: 1.3127 - acc: 0.6615 - val_loss: 1.4988 - val_acc: 0.6416\n",
      "Epoch 5/20\n",
      "7185/7185 [==============================] - 2s 317us/step - loss: 1.1914 - acc: 0.6991 - val_loss: 1.4721 - val_acc: 0.6578\n",
      "Epoch 6/20\n",
      "7185/7185 [==============================] - 2s 307us/step - loss: 1.0986 - acc: 0.7204 - val_loss: 1.4818 - val_acc: 0.6700\n",
      "Epoch 7/20\n",
      "7185/7185 [==============================] - 2s 313us/step - loss: 1.0224 - acc: 0.7356 - val_loss: 1.4731 - val_acc: 0.6750\n",
      "Epoch 8/20\n",
      "7185/7185 [==============================] - 2s 320us/step - loss: 0.9609 - acc: 0.7482 - val_loss: 1.4793 - val_acc: 0.6839\n",
      "Epoch 9/20\n",
      "7185/7185 [==============================] - 2s 323us/step - loss: 0.9093 - acc: 0.7621 - val_loss: 1.5176 - val_acc: 0.6850\n",
      "Epoch 10/20\n",
      "7185/7185 [==============================] - 2s 331us/step - loss: 0.8648 - acc: 0.7713 - val_loss: 1.5718 - val_acc: 0.6867\n",
      "Epoch 11/20\n",
      "7185/7185 [==============================] - 2s 297us/step - loss: 0.8265 - acc: 0.7804 - val_loss: 1.5888 - val_acc: 0.6828\n",
      "Epoch 12/20\n",
      "7185/7185 [==============================] - 2s 287us/step - loss: 0.7913 - acc: 0.7869 - val_loss: 1.5749 - val_acc: 0.6850\n",
      "Epoch 13/20\n",
      "7185/7185 [==============================] - 2s 283us/step - loss: 0.7624 - acc: 0.7908 - val_loss: 1.6886 - val_acc: 0.6800\n",
      "Epoch 14/20\n",
      "7185/7185 [==============================] - 2s 282us/step - loss: 0.7333 - acc: 0.7942 - val_loss: 1.7495 - val_acc: 0.6711\n",
      "Epoch 15/20\n",
      "7185/7185 [==============================] - 2s 284us/step - loss: 0.7087 - acc: 0.7978 - val_loss: 1.7927 - val_acc: 0.6711\n",
      "Epoch 16/20\n",
      "7185/7185 [==============================] - 2s 284us/step - loss: 0.6899 - acc: 0.8026 - val_loss: 1.7629 - val_acc: 0.6756\n",
      "Epoch 17/20\n",
      "7185/7185 [==============================] - 2s 285us/step - loss: 0.6693 - acc: 0.8067 - val_loss: 1.8803 - val_acc: 0.6700\n",
      "Epoch 18/20\n",
      "7185/7185 [==============================] - 2s 285us/step - loss: 0.6553 - acc: 0.8079 - val_loss: 1.8394 - val_acc: 0.6722\n",
      "Epoch 19/20\n",
      "7185/7185 [==============================] - 2s 289us/step - loss: 0.6380 - acc: 0.8107 - val_loss: 2.0161 - val_acc: 0.6667\n",
      "Epoch 20/20\n",
      "7185/7185 [==============================] - 2s 290us/step - loss: 0.6232 - acc: 0.8148 - val_loss: 1.9921 - val_acc: 0.6678\n"
     ]
    }
   ],
   "source": [
    "history2 = model2.fit(x_train, y_train_1_hot, epochs=20, batch_size=128, validation_split=0.20)"
   ]
  },
  {
   "cell_type": "code",
   "execution_count": 30,
   "metadata": {},
   "outputs": [
    {
     "data": {
      "image/png": "[encoded data removed]",
      "text/plain": [
       "<Figure size 432x288 with 1 Axes>"
      ]
     },
     "metadata": {},
     "output_type": "display_data"
    }
   ],
   "source": [
    "loss2 = history2.history['loss']\n",
    "val_loss2 = history2.history['val_loss']\n",
    "\n",
    "epochs = range(1, len(loss) + 1)\n",
    "\n",
    "plt.plot(epochs, loss2, 'bo', label='Training loss')\n",
    "plt.plot(epochs, val_loss2, 'b', label='Validation loss')\n",
    "plt.title('Training and validation loss')\n",
    "plt.xlabel('Epochs')\n",
    "plt.ylabel('Loss')\n",
    "plt.legend()\n",
    "\n",
    "plt.show()"
   ]
  },
  {
   "cell_type": "code",
   "execution_count": null,
   "metadata": {},
   "outputs": [],
   "source": []
  }
 ],
 "metadata": {
  "kernelspec": {
   "display_name": "Python 3",
   "language": "python",
   "name": "python3"
  },
  "language_info": {
   "codemirror_mode": {
    "name": "ipython",
    "version": 3
   },
   "file_extension": ".py",
   "mimetype": "text/x-python",
   "name": "python",
   "nbconvert_exporter": "python",
   "pygments_lexer": "ipython3",
   "version": "3.6.5"
  }
 },
 "nbformat": 4,
 "nbformat_minor": 2
}
