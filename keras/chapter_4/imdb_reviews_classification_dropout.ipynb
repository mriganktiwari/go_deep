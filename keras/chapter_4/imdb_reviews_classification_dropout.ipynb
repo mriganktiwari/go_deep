{
 "cells": [
  {
   "cell_type": "code",
   "execution_count": 11,
   "metadata": {},
   "outputs": [
    {
     "name": "stderr",
     "output_type": "stream",
     "text": [
      "Using TensorFlow backend.\n"
     ]
    }
   ],
   "source": [
    "import tensorflow as tf\n",
    "from keras import layers, models"
   ]
  },
  {
   "cell_type": "code",
   "execution_count": 2,
   "metadata": {},
   "outputs": [],
   "source": [
    "imdb = tf.keras.datasets.imdb\n",
    "# keep the top 10,000 most frequently occurring words in the training data\n",
    "(x_train, y_train), (x_test, y_test) = imdb.load_data(num_words=1000)"
   ]
  },
  {
   "cell_type": "code",
   "execution_count": 3,
   "metadata": {},
   "outputs": [],
   "source": [
    "# Decode sequence of indexes back to reviews\n",
    "\n",
    "word_index = imdb.get_word_index()\n",
    "reverse_word_index = dict([(value, key) for (key, value) in word_index.items()])\n",
    "decoded_review = ' '.join([reverse_word_index.get(i - 3, '?') for i in x_train[0]])"
   ]
  },
  {
   "cell_type": "code",
   "execution_count": 4,
   "metadata": {},
   "outputs": [
    {
     "data": {
      "text/plain": [
       "\"? this film was just brilliant casting ? ? story direction ? really ? the part they played and you could just imagine being there robert ? is an amazing actor and now the same being director ? father came from the same ? ? as myself so i loved the fact there was a real ? with this film the ? ? throughout the film were great it was just brilliant so much that i ? the film as soon as it was released for ? and would recommend it to everyone to watch and the ? ? was amazing really ? at the end it was so sad and you know what they say if you ? at a film it must have been good and this definitely was also ? to the two little ? that played the ? of ? and paul they were just brilliant children are often left out of the ? ? i think because the stars that play them all ? up are such a big ? for the whole film but these children are amazing and should be ? for what they have done don't you think the whole story was so ? because it was true and was ? life after all that was ? with us all\""
      ]
     },
     "execution_count": 4,
     "metadata": {},
     "output_type": "execute_result"
    }
   ],
   "source": [
    "decoded_review"
   ]
  },
  {
   "cell_type": "code",
   "execution_count": 5,
   "metadata": {},
   "outputs": [],
   "source": [
    "# Encoding the integer sequences into a binary matrix\n",
    "\n",
    "import numpy as np\n",
    "\n",
    "def vectorize_sequences(sequences, dimension=10000):\n",
    "    results = np.zeros((len(sequences), dimension))\n",
    "    for i, sequence in enumerate(sequences):\n",
    "        results[i, sequence] = 1.\n",
    "    return results\n",
    "\n",
    "x_train = vectorize_sequences(x_train)\n",
    "x_test = vectorize_sequences(x_test)"
   ]
  },
  {
   "cell_type": "code",
   "execution_count": 6,
   "metadata": {},
   "outputs": [
    {
     "data": {
      "text/plain": [
       "array([1, 0, 0, ..., 0, 1, 0])"
      ]
     },
     "execution_count": 6,
     "metadata": {},
     "output_type": "execute_result"
    }
   ],
   "source": [
    "y_train"
   ]
  },
  {
   "cell_type": "code",
   "execution_count": 7,
   "metadata": {},
   "outputs": [],
   "source": [
    "y_train = np.asarray(y_train).astype('float32')\n",
    "y_test = np.asarray(y_test).astype('float32')"
   ]
  },
  {
   "cell_type": "code",
   "execution_count": 8,
   "metadata": {},
   "outputs": [
    {
     "data": {
      "text/plain": [
       "array([1., 0., 0., ..., 0., 1., 0.], dtype=float32)"
      ]
     },
     "execution_count": 8,
     "metadata": {},
     "output_type": "execute_result"
    }
   ],
   "source": [
    "y_train"
   ]
  },
  {
   "cell_type": "code",
   "execution_count": 12,
   "metadata": {},
   "outputs": [],
   "source": [
    "# Model\n",
    "\n",
    "# model = tf.keras.Sequential()\n",
    "# model.add(tf.keras.layers.Dense(16, activation='relu', input_shape=(10000,)))\n",
    "# model.add(tf.keras.layers.Dense(16, activation='relu'))\n",
    "# model.add(tf.keras.layers.Dense(1, activation='sigmoid'))\n",
    "\n",
    "model = models.Sequential()\n",
    "model.add(layers.Dense(16, activation='relu', input_shape=(10000,)))\n",
    "model.add(layers.Dropout(0.5))\n",
    "model.add(layers.Dense(16, activation='relu'))\n",
    "model.add(layers.Dropout(0.5))\n",
    "model.add(layers.Dense(1, activation='sigmoid'))\n",
    "\n",
    "model.compile(optimizer='adam',\n",
    "             loss='binary_crossentropy',\n",
    "             metrics=['accuracy'])"
   ]
  },
  {
   "cell_type": "code",
   "execution_count": 13,
   "metadata": {},
   "outputs": [
    {
     "name": "stdout",
     "output_type": "stream",
     "text": [
      "Train on 20000 samples, validate on 5000 samples\n",
      "Epoch 1/20\n",
      "20000/20000 [==============================] - 7s 341us/step - loss: 0.6627 - acc: 0.5910 - val_loss: 0.5847 - val_acc: 0.8124\n",
      "Epoch 2/20\n",
      "20000/20000 [==============================] - 5s 229us/step - loss: 0.5638 - acc: 0.7354 - val_loss: 0.4734 - val_acc: 0.8434\n",
      "Epoch 3/20\n",
      "20000/20000 [==============================] - 4s 216us/step - loss: 0.4904 - acc: 0.7964 - val_loss: 0.4129 - val_acc: 0.8524\n",
      "Epoch 4/20\n",
      "20000/20000 [==============================] - 4s 223us/step - loss: 0.4485 - acc: 0.8288 - val_loss: 0.3796 - val_acc: 0.8566\n",
      "Epoch 5/20\n",
      "20000/20000 [==============================] - 3s 154us/step - loss: 0.4185 - acc: 0.8438 - val_loss: 0.3580 - val_acc: 0.8604\n",
      "Epoch 6/20\n",
      "20000/20000 [==============================] - 3s 142us/step - loss: 0.3972 - acc: 0.8525 - val_loss: 0.3467 - val_acc: 0.8624\n",
      "Epoch 7/20\n",
      "20000/20000 [==============================] - 4s 187us/step - loss: 0.3834 - acc: 0.8587 - val_loss: 0.3371 - val_acc: 0.8630\n",
      "Epoch 8/20\n",
      "20000/20000 [==============================] - 4s 190us/step - loss: 0.3700 - acc: 0.8603 - val_loss: 0.3331 - val_acc: 0.8626\n",
      "Epoch 9/20\n",
      "20000/20000 [==============================] - 3s 170us/step - loss: 0.3569 - acc: 0.8664 - val_loss: 0.3312 - val_acc: 0.8570\n",
      "Epoch 10/20\n",
      "20000/20000 [==============================] - 3s 159us/step - loss: 0.3503 - acc: 0.8643 - val_loss: 0.3286 - val_acc: 0.8606\n",
      "Epoch 11/20\n",
      "20000/20000 [==============================] - 4s 185us/step - loss: 0.3453 - acc: 0.8687 - val_loss: 0.3286 - val_acc: 0.8598\n",
      "Epoch 12/20\n",
      "20000/20000 [==============================] - 3s 162us/step - loss: 0.3382 - acc: 0.8728 - val_loss: 0.3284 - val_acc: 0.8618\n",
      "Epoch 13/20\n",
      "20000/20000 [==============================] - 4s 189us/step - loss: 0.3322 - acc: 0.8753 - val_loss: 0.3308 - val_acc: 0.8540\n",
      "Epoch 14/20\n",
      "20000/20000 [==============================] - 4s 176us/step - loss: 0.3264 - acc: 0.8769 - val_loss: 0.3321 - val_acc: 0.8560\n",
      "Epoch 15/20\n",
      "20000/20000 [==============================] - 3s 142us/step - loss: 0.3243 - acc: 0.8790 - val_loss: 0.3351 - val_acc: 0.8574\n",
      "Epoch 16/20\n",
      "20000/20000 [==============================] - 3s 152us/step - loss: 0.3229 - acc: 0.8785 - val_loss: 0.3336 - val_acc: 0.8572\n",
      "Epoch 17/20\n",
      "20000/20000 [==============================] - 3s 168us/step - loss: 0.3167 - acc: 0.8802 - val_loss: 0.3363 - val_acc: 0.8564\n",
      "Epoch 18/20\n",
      "20000/20000 [==============================] - 3s 154us/step - loss: 0.3123 - acc: 0.8827 - val_loss: 0.3369 - val_acc: 0.8530\n",
      "Epoch 19/20\n",
      "20000/20000 [==============================] - 3s 163us/step - loss: 0.3088 - acc: 0.8859 - val_loss: 0.3390 - val_acc: 0.8574\n",
      "Epoch 20/20\n",
      "20000/20000 [==============================] - 3s 144us/step - loss: 0.3060 - acc: 0.8859 - val_loss: 0.3426 - val_acc: 0.8582\n"
     ]
    }
   ],
   "source": [
    "history = model.fit(x_train,\n",
    "                    y_train,\n",
    "                    epochs=20,\n",
    "                    batch_size=512,\n",
    "                    validation_split=0.20)"
   ]
  },
  {
   "cell_type": "code",
   "execution_count": 14,
   "metadata": {},
   "outputs": [
    {
     "data": {
      "text/plain": [
       "dict_keys(['val_loss', 'val_acc', 'loss', 'acc'])"
      ]
     },
     "execution_count": 14,
     "metadata": {},
     "output_type": "execute_result"
    }
   ],
   "source": [
    "history_dict = history.history\n",
    "history_dict.keys()"
   ]
  },
  {
   "cell_type": "code",
   "execution_count": 16,
   "metadata": {},
   "outputs": [
    {
     "data": {
      "image/png": "[encoded data removed]",
      "text/plain": [
       "<Figure size 432x288 with 1 Axes>"
      ]
     },
     "metadata": {},
     "output_type": "display_data"
    }
   ],
   "source": [
    "import matplotlib.pyplot as plt\n",
    "\n",
    "loss = history_dict['loss']\n",
    "val_loss = history_dict['val_loss']\n",
    "epochs = range(1, len(loss) + 1)\n",
    "\n",
    "plt.plot(epochs, loss, 'bo', label='Training loss')\n",
    "plt.plot(epochs, val_loss, 'b', label='Validation loss')\n",
    "plt.title('Training and validation loss')\n",
    "plt.xlabel('Epochs')\n",
    "plt.ylabel('Loss')\n",
    "plt.legend()\n",
    "\n",
    "plt.show()"
   ]
  },
  {
   "cell_type": "code",
   "execution_count": 17,
   "metadata": {},
   "outputs": [
    {
     "data": {
      "image/png": "[encoded data removed]",
      "text/plain": [
       "<Figure size 432x288 with 1 Axes>"
      ]
     },
     "metadata": {},
     "output_type": "display_data"
    }
   ],
   "source": [
    "acc = history_dict['acc']\n",
    "val_acc = history_dict['val_acc']\n",
    "epochs = range(1, len(acc) + 1)\n",
    "\n",
    "plt.plot(epochs, acc, 'bo', label='Training accuracy')\n",
    "plt.plot(epochs, val_acc, 'b', label='Validation accuracy')\n",
    "plt.title('Training and validation loss')\n",
    "plt.xlabel('Epochs')\n",
    "plt.ylabel('Accuracy')\n",
    "plt.legend()\n",
    "\n",
    "plt.show()"
   ]
  },
  {
   "cell_type": "code",
   "execution_count": 34,
   "metadata": {},
   "outputs": [
    {
     "name": "stdout",
     "output_type": "stream",
     "text": [
      "25000/25000 [==============================] - 5s 203us/step\n"
     ]
    }
   ],
   "source": [
    "results = model.evaluate(x_test, y_test)"
   ]
  },
  {
   "cell_type": "code",
   "execution_count": 35,
   "metadata": {},
   "outputs": [
    {
     "data": {
      "text/plain": [
       "[0.3335278328704834, 0.8566]"
      ]
     },
     "execution_count": 35,
     "metadata": {},
     "output_type": "execute_result"
    }
   ],
   "source": [
    "results"
   ]
  },
  {
   "cell_type": "code",
   "execution_count": null,
   "metadata": {},
   "outputs": [],
   "source": []
  }
 ],
 "metadata": {
  "kernelspec": {
   "display_name": "Python 3",
   "language": "python",
   "name": "python3"
  },
  "language_info": {
   "codemirror_mode": {
    "name": "ipython",
    "version": 3
   },
   "file_extension": ".py",
   "mimetype": "text/x-python",
   "name": "python",
   "nbconvert_exporter": "python",
   "pygments_lexer": "ipython3",
   "version": "3.6.5"
  }
 },
 "nbformat": 4,
 "nbformat_minor": 2
}
